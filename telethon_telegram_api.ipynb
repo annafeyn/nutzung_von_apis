{
 "cells": [
  {
   "cell_type": "code",
   "execution_count": null,
   "id": "48da2116",
   "metadata": {},
   "outputs": [],
   "source": [
    "# run this script not as ipython but as python program in the shell\n",
    "\n",
    "from telethon import TelegramClient\n",
    "from datetime import datetime\n",
    "import pandas\n",
    "\n",
    "api_id = 'xxxxxxx' # get your own token from Telegram's developer platform\n",
    "api_hash = 'xxxxxxxxxxxxx' # get your own token from Telegram's developer platform\n",
    "client = TelegramClient('indigo', api_id, api_hash)\n",
    "\n",
    "async def main():\n",
    "\n",
    "    df_all = pandas.DataFrame()\n",
    "\n",
    "    for channel in ['https://t.me/Gruene_de', 'https://t.me/CDU_de']: # ['https://t.me/christlichsozialeunion', 'https://t.me/SPD_de', 'https://t.me/AlternativeFuerDE', 'https://t.me/dielinke']\n",
    "        messages = await client.get_messages(channel, limit=10)\n",
    "        #print(messages)\n",
    "\n",
    "        messages_list = []\n",
    "        for message in messages:\n",
    "            content_date_created = message.date\n",
    "            content_date_fetched = datetime.now()\n",
    "            content_text = message.message\n",
    "            content_external_id = message.id\n",
    "            content_external_link = message.media.webpage.url if hasattr(message.media.webpage, 'url') else None\n",
    "            content_views = message.views\n",
    "    \n",
    "            messages_list.append([content_date_created, content_date_fetched, content_text, content_external_id, content_external_link, content_views])\n",
    "\n",
    "        df = pandas.DataFrame(messages_list, \n",
    "             columns = ['content_date_created', 'content_date_fetched', 'content_text', 'content_external_id', 'content_external_link', 'content_views'])\n",
    "\n",
    "        df_all = pandas.concat([df_all, df])\n",
    "\n",
    "    df_all.to_csv(\"telegram_output.csv\", sep=\";\", index=False)\n",
    "\n",
    "with client:\n",
    "    client.loop.run_until_complete(main())"
   ]
  }
 ],
 "metadata": {
  "kernelspec": {
   "display_name": "Python 3",
   "language": "python",
   "name": "python3"
  },
  "language_info": {
   "codemirror_mode": {
    "name": "ipython",
    "version": 3
   },
   "file_extension": ".py",
   "mimetype": "text/x-python",
   "name": "python",
   "nbconvert_exporter": "python",
   "pygments_lexer": "ipython3",
   "version": "3.8.8"
  }
 },
 "nbformat": 4,
 "nbformat_minor": 5
}
