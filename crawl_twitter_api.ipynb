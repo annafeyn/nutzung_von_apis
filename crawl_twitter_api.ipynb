{
 "cells": [
  {
   "cell_type": "code",
   "execution_count": null,
   "id": "ee0fc501",
   "metadata": {},
   "outputs": [],
   "source": [
    "import requests\n",
    "from datetime import datetime\n",
    "import pandas\n",
    "import json\n",
    "from itertools import repeat"
   ]
  },
  {
   "cell_type": "code",
   "execution_count": null,
   "id": "2b751078",
   "metadata": {},
   "outputs": [],
   "source": [
    "# Twitter channel ids of German parties:\n",
    "channel_ids_twitter = [\"26458162\", \"844081278\", \"20429858\", \"21107582\", \"14553288\", \"44101578\", \"39475170\"] \n",
    "\n",
    "# format request URL\n",
    "def params_to_query(param_dict):\n",
    "    return \"&\".join([ key + \"=\" + param_dict[key] for key in param_dict.keys() if param_dict[key] is not None ])"
   ]
  },
  {
   "cell_type": "code",
   "execution_count": null,
   "id": "e2f41382",
   "metadata": {},
   "outputs": [],
   "source": [
    "# crawl tweets\n",
    "def crawl_tweets(user_id):\n",
    "    query = params_to_query({\n",
    "                \"start_time\": \"2023-01-20T00:00:00Z\",\n",
    "                \"max_results\": \"100\",\n",
    "                \"tweet.fields\": \",\".join([ 'id', 'text', 'created_at', 'lang', 'author_id', \n",
    "                                           'entities', 'referenced_tweets', 'public_metrics' ]),\n",
    "                \"expansions\": \",\".join(['referenced_tweets.id' ])\n",
    "            })\n",
    "\n",
    "    headers = {\n",
    "               \"Authorization\": \"xxxxxxxxxxxxxxxx\" # get your own token from Twitter's developer platform\n",
    "              }\n",
    "\n",
    "    url = f\"https://api.twitter.com/2/users/{user_id}/tweets?{query}\"\n",
    "    entries = crawl_iter_tweets(url, headers)\n",
    "    entries = map(decode_tweet, entries, repeat(user_id))\n",
    "    df = pandas.DataFrame.from_dict(entries)\n",
    "    return df\n",
    "\n",
    "\n",
    "# request data via request URL\n",
    "def crawl_iter_tweets(url, headers):\n",
    "    while url is not None:\n",
    "        print(url)\n",
    "        r = requests.get(url, headers=headers)\n",
    "        url = None\n",
    "\n",
    "        if r.status_code != 200:\n",
    "            print(r.status_code)\n",
    "            break\n",
    "            \n",
    "        #print(r.text)\n",
    "        \n",
    "        body = r.json()\n",
    "        print(body)\n",
    "        data = body['data']\n",
    "        for entry in data:\n",
    "            yield entry\n",
    "\n",
    "\n",
    "# store requested data in dictionary\n",
    "def decode_tweet(entry, user_id):\n",
    "    content_3rdparty_id=entry['id']\n",
    "    content_text=entry['text']\n",
    "    content_url=f\"https://twitter.com/{user_id}/status/{entry['id']}\"\n",
    "    content_date_fetched=datetime.now()\n",
    "    content_date_created=datetime.strptime(entry['created_at'], '%Y-%m-%dT%H:%M:%S.%fZ')\n",
    "    content_lang=entry['lang']\n",
    "    content_type=entry['referenced_tweets'][0]['type'] if 'referenced_tweets' in entry else \"tweet\"\n",
    "    content_external_link=entry['entities']['urls'][0]['expanded_url'] if 'entities' in entry and 'urls' in entry['entities'] else None\n",
    "\n",
    "    return {\"content_3rdparty_id\": content_3rdparty_id, \"content_text\": content_text, \"content_url\": content_url,\n",
    "            \"content_date_fetched\": content_date_fetched, \"content_date_created\": content_date_created,\n",
    "            \"content_lang\": content_lang, \"content_type\": content_type, \"content_external_link\": content_external_link}\n",
    "\n",
    "\n",
    "# run\n",
    "df_twitter = pandas.DataFrame()\n",
    "for user_id in channel_ids_twitter:\n",
    "    #crawl_tweets(user_id)\n",
    "    df_twitter = pandas.concat([df_twitter, crawl_tweets(user_id)])\n",
    "\n",
    "df_twitter.to_csv(\"twitter_output.csv\", sep=\";\", index=False)"
   ]
  }
 ],
 "metadata": {
  "kernelspec": {
   "display_name": "Python 3",
   "language": "python",
   "name": "python3"
  },
  "language_info": {
   "codemirror_mode": {
    "name": "ipython",
    "version": 3
   },
   "file_extension": ".py",
   "mimetype": "text/x-python",
   "name": "python",
   "nbconvert_exporter": "python",
   "pygments_lexer": "ipython3",
   "version": "3.8.8"
  }
 },
 "nbformat": 4,
 "nbformat_minor": 5
}
